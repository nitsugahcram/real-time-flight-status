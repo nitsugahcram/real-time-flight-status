{
 "cells": [
  {
   "cell_type": "markdown",
   "id": "blocked-level",
   "metadata": {},
   "source": [
    "\n",
    "# Aviationstack \n",
    "\n",
    "## Objective:\n",
    "\n",
    "* Understand what kind of data is dumping into the dataset\n",
    "* showcase how to connect to postgres db using pandas\n"
   ]
  },
  {
   "cell_type": "markdown",
   "id": "diverse-biotechnology",
   "metadata": {
    "ExecuteTime": {
     "end_time": "2021-01-27T23:12:12.295120Z",
     "start_time": "2021-01-27T23:12:12.284226Z"
    }
   },
   "source": [
    "# Add Helpers Libs to Python Path"
   ]
  },
  {
   "cell_type": "code",
   "execution_count": 1,
   "id": "proper-reward",
   "metadata": {
    "ExecuteTime": {
     "end_time": "2021-01-28T16:56:24.585808Z",
     "start_time": "2021-01-28T16:56:20.971028Z"
    }
   },
   "outputs": [
    {
     "name": "stdout",
     "output_type": "stream",
     "text": [
      "Defaulting to user installation because normal site-packages is not writeable\n",
      "Obtaining file:///home/analytics/workspace\n",
      "Requirement already satisfied: psycopg2-binary==2.8.6 in /home/analytics/.local/lib/python3.8/site-packages (from avstackhelper==0.0.1) (2.8.6)\n",
      "Installing collected packages: avstackhelper\n",
      "  Attempting uninstall: avstackhelper\n",
      "    Found existing installation: avstackhelper 0.0.1\n",
      "    Uninstalling avstackhelper-0.0.1:\n",
      "      Successfully uninstalled avstackhelper-0.0.1\n",
      "  Running setup.py develop for avstackhelper\n",
      "Successfully installed avstackhelper\n"
     ]
    },
    {
     "name": "stderr",
     "output_type": "stream",
     "text": [
      "WARNING: You are using pip version 20.3.3; however, version 21.0 is available.\n",
      "You should consider upgrading via the '/usr/local/bin/python -m pip install --upgrade pip' command.\n"
     ]
    }
   ],
   "source": [
    "%%sh\n",
    "cd /home/analytics/workspace/\n",
    "pip3 install -e ."
   ]
  },
  {
   "cell_type": "markdown",
   "id": "demographic-appeal",
   "metadata": {
    "ExecuteTime": {
     "end_time": "2021-01-28T16:56:10.553803Z",
     "start_time": "2021-01-28T16:56:10.550979Z"
    }
   },
   "source": [
    "# Restart Kernel"
   ]
  },
  {
   "cell_type": "markdown",
   "id": "facial-touch",
   "metadata": {},
   "source": [
    "# Libs Versioning"
   ]
  },
  {
   "cell_type": "code",
   "execution_count": 2,
   "id": "failing-lancaster",
   "metadata": {
    "ExecuteTime": {
     "end_time": "2021-01-28T16:56:24.918735Z",
     "start_time": "2021-01-28T16:56:24.587790Z"
    }
   },
   "outputs": [
    {
     "name": "stdout",
     "output_type": "stream",
     "text": [
      "######################## Versioning ########################\n",
      "--------------------- IPython: 7.19.0 ----------------------\n",
      "---------- psycopg2: 2.8.6 (dt dec pq3 ext lo64) -----------\n",
      "---------------------- pandas: 1.2.1 -----------------------\n",
      "--------------------AVSTACKHELPER 0.0.1---------------------\n",
      "############################################################\n"
     ]
    }
   ],
   "source": [
    "from IPython import __version__ as ipython_version\n",
    "from pandas import __version__ as pandas_version\n",
    "from psycopg2 import __version__ as psycopg2_version\n",
    "from avstackhelper import __version__ as avstackhelper_version\n",
    "\n",
    "VERSION = \" Versioning \"\n",
    "IPYTHON = \" IPython: %s \" % ipython_version\n",
    "PSYCOPG2 = \" psycopg2: %s \" % psycopg2_version\n",
    "PANDAS = \" pandas: %s \" % pandas_version\n",
    "ASHELPER = \"AVSTACKHELPER %s\" % avstackhelper_version\n",
    "\n",
    "print(VERSION.center(60, '#'))\n",
    "print(IPYTHON.center(60, \"-\"))\n",
    "print(PSYCOPG2.center(60, \"-\"))\n",
    "print(PANDAS.center(60, \"-\"))\n",
    "print(ASHELPER.center(60, \"-\"))\n",
    "print(\"\".center(60, '#'))"
   ]
  },
  {
   "cell_type": "markdown",
   "id": "configured-preserve",
   "metadata": {},
   "source": [
    "# Import Libs"
   ]
  },
  {
   "cell_type": "code",
   "execution_count": 3,
   "id": "chronic-budapest",
   "metadata": {
    "ExecuteTime": {
     "end_time": "2021-01-28T16:56:24.927084Z",
     "start_time": "2021-01-28T16:56:24.921381Z"
    }
   },
   "outputs": [],
   "source": [
    "import pandas as pd\n",
    "from avstackhelper.etl.session import postgresql_connect\n",
    "from avstackhelper.etl.session import postgresql_fetch_data"
   ]
  },
  {
   "cell_type": "markdown",
   "id": "passive-parcel",
   "metadata": {},
   "source": [
    "# Intiatiate DB Connection"
   ]
  },
  {
   "cell_type": "markdown",
   "id": "neither-singapore",
   "metadata": {
    "ExecuteTime": {
     "end_time": "2021-01-27T23:11:05.295361Z",
     "start_time": "2021-01-27T23:11:05.262045Z"
    }
   },
   "source": [
    "## Defining Globals Variables\n",
    "\n",
    "- DB Param"
   ]
  },
  {
   "cell_type": "code",
   "execution_count": 4,
   "id": "persistent-software",
   "metadata": {
    "ExecuteTime": {
     "end_time": "2021-01-28T16:56:24.932730Z",
     "start_time": "2021-01-28T16:56:24.929335Z"
    }
   },
   "outputs": [],
   "source": [
    "param_dic = {\n",
    "    \"host\"      : \"aviationdb_postgres\",\n",
    "    \"database\"  : \"aviationstack\",\n",
    "    \"user\"      : \"testfligoo\",\n",
    "    \"password\"  : \"testdata\"\n",
    "}\n",
    "TABLE_TO_FETCH = \"t_active_flights_view\""
   ]
  },
  {
   "cell_type": "code",
   "execution_count": 5,
   "id": "peaceful-courtesy",
   "metadata": {
    "ExecuteTime": {
     "end_time": "2021-01-28T16:56:24.943238Z",
     "start_time": "2021-01-28T16:56:24.934579Z"
    }
   },
   "outputs": [
    {
     "name": "stdout",
     "output_type": "stream",
     "text": [
      "Connecting to the PostgreSQL database...\n",
      "Connection successful\n"
     ]
    }
   ],
   "source": [
    "conn = postgresql_connect(param_dic)"
   ]
  },
  {
   "cell_type": "markdown",
   "id": "exceptional-neighbor",
   "metadata": {},
   "source": [
    "# Data Retrieval"
   ]
  },
  {
   "cell_type": "code",
   "execution_count": 6,
   "id": "colonial-airplane",
   "metadata": {
    "ExecuteTime": {
     "end_time": "2021-01-28T16:56:24.957557Z",
     "start_time": "2021-01-28T16:56:24.945093Z"
    }
   },
   "outputs": [
    {
     "data": {
      "text/plain": [
       "'SELECT flight_date,flight_status,airline_name,flight_number,departure_airport,departure_timezone,arrival_airport,arrival_timezone,arrival_terminal,insert_timestamp FROM t_active_flights_view'"
      ]
     },
     "execution_count": 6,
     "metadata": {},
     "output_type": "execute_result"
    }
   ],
   "source": [
    "column_names = [\n",
    "    \"flight_date\", \"flight_status\", \"airline_name\", \"flight_number\",\n",
    "    \"departure_airport\", \"departure_timezone\", \"arrival_airport\",\n",
    "    \"arrival_timezone\", \"arrival_terminal\", \"insert_timestamp\"\n",
    "]\n",
    "SQL_QUERY = \"SELECT {} FROM {}\".format(\",\".join(column_names), TABLE_TO_FETCH)\n",
    "SQL_QUERY"
   ]
  },
  {
   "cell_type": "code",
   "execution_count": 11,
   "id": "optimum-bullet",
   "metadata": {
    "ExecuteTime": {
     "end_time": "2021-01-28T17:04:52.803074Z",
     "start_time": "2021-01-28T17:04:52.796851Z"
    }
   },
   "outputs": [
    {
     "data": {
      "text/plain": [
       "200"
      ]
     },
     "execution_count": 11,
     "metadata": {},
     "output_type": "execute_result"
    }
   ],
   "source": [
    "tupples = postgresql_fetch_data(conn, SQL_QUERY)\n",
    "len(tupples)"
   ]
  },
  {
   "cell_type": "markdown",
   "id": "breeding-layer",
   "metadata": {
    "ExecuteTime": {
     "end_time": "2021-01-28T06:47:16.059541Z",
     "start_time": "2021-01-28T06:47:16.056496Z"
    }
   },
   "source": [
    "## Convert to Pandas DataFrame"
   ]
  },
  {
   "cell_type": "code",
   "execution_count": 12,
   "id": "casual-infrastructure",
   "metadata": {
    "ExecuteTime": {
     "end_time": "2021-01-28T17:04:54.053779Z",
     "start_time": "2021-01-28T17:04:54.037007Z"
    }
   },
   "outputs": [
    {
     "name": "stdout",
     "output_type": "stream",
     "text": [
      "<class 'pandas.core.frame.DataFrame'>\n",
      "RangeIndex: 200 entries, 0 to 199\n",
      "Data columns (total 10 columns):\n",
      " #   Column              Non-Null Count  Dtype                                                               \n",
      "---  ------              --------------  -----                                                               \n",
      " 0   flight_date         200 non-null    object                                                              \n",
      " 1   flight_status       200 non-null    object                                                              \n",
      " 2   airline_name        200 non-null    object                                                              \n",
      " 3   flight_number       200 non-null    object                                                              \n",
      " 4   departure_airport   200 non-null    object                                                              \n",
      " 5   departure_timezone  200 non-null    object                                                              \n",
      " 6   arrival_airport     200 non-null    object                                                              \n",
      " 7   arrival_timezone    200 non-null    object                                                              \n",
      " 8   arrival_terminal    200 non-null    object                                                              \n",
      " 9   insert_timestamp    200 non-null    datetime64[ns, psycopg2.tz.FixedOffsetTimezone(offset=0, name=None)]\n",
      "dtypes: datetime64[ns, psycopg2.tz.FixedOffsetTimezone(offset=0, name=None)](1), object(9)\n",
      "memory usage: 15.8+ KB\n"
     ]
    }
   ],
   "source": [
    "df = pd.DataFrame(tupples, columns=column_names)\n",
    "df.info()"
   ]
  },
  {
   "cell_type": "code",
   "execution_count": 13,
   "id": "other-illustration",
   "metadata": {
    "ExecuteTime": {
     "end_time": "2021-01-28T17:04:55.473130Z",
     "start_time": "2021-01-28T17:04:55.456562Z"
    }
   },
   "outputs": [
    {
     "data": {
      "text/html": [
       "<div>\n",
       "<style scoped>\n",
       "    .dataframe tbody tr th:only-of-type {\n",
       "        vertical-align: middle;\n",
       "    }\n",
       "\n",
       "    .dataframe tbody tr th {\n",
       "        vertical-align: top;\n",
       "    }\n",
       "\n",
       "    .dataframe thead th {\n",
       "        text-align: right;\n",
       "    }\n",
       "</style>\n",
       "<table border=\"1\" class=\"dataframe\">\n",
       "  <thead>\n",
       "    <tr style=\"text-align: right;\">\n",
       "      <th></th>\n",
       "      <th>flight_date</th>\n",
       "      <th>flight_status</th>\n",
       "      <th>airline_name</th>\n",
       "      <th>flight_number</th>\n",
       "      <th>departure_airport</th>\n",
       "      <th>departure_timezone</th>\n",
       "      <th>arrival_airport</th>\n",
       "      <th>arrival_timezone</th>\n",
       "      <th>arrival_terminal</th>\n",
       "      <th>insert_timestamp</th>\n",
       "    </tr>\n",
       "  </thead>\n",
       "  <tbody>\n",
       "    <tr>\n",
       "      <th>0</th>\n",
       "      <td>2021-01-29</td>\n",
       "      <td>active</td>\n",
       "      <td>Qantas</td>\n",
       "      <td>7356</td>\n",
       "      <td>Tullamarine</td>\n",
       "      <td>Australia - Melbourne</td>\n",
       "      <td>Launceston</td>\n",
       "      <td>Australia - Hobart</td>\n",
       "      <td>1</td>\n",
       "      <td>2021-01-28 17:07:30.376000+00:00</td>\n",
       "    </tr>\n",
       "    <tr>\n",
       "      <th>1</th>\n",
       "      <td>2021-01-29</td>\n",
       "      <td>active</td>\n",
       "      <td>Polar Air Cargo</td>\n",
       "      <td>211</td>\n",
       "      <td>Chu-Bu Centrair International (Central Japan I...</td>\n",
       "      <td>Asia - Tokyo</td>\n",
       "      <td>Shanghai Pudong International</td>\n",
       "      <td>Asia - Shanghai</td>\n",
       "      <td>1</td>\n",
       "      <td>2021-01-28 17:07:08.636000+00:00</td>\n",
       "    </tr>\n",
       "    <tr>\n",
       "      <th>2</th>\n",
       "      <td>2021-01-29</td>\n",
       "      <td>active</td>\n",
       "      <td>Qantas</td>\n",
       "      <td>7353</td>\n",
       "      <td>Tullamarine</td>\n",
       "      <td>Australia - Melbourne</td>\n",
       "      <td>Brisbane International</td>\n",
       "      <td>Australia - Brisbane</td>\n",
       "      <td>D</td>\n",
       "      <td>2021-01-28 17:07:30.376000+00:00</td>\n",
       "    </tr>\n",
       "    <tr>\n",
       "      <th>3</th>\n",
       "      <td>2021-01-28</td>\n",
       "      <td>active</td>\n",
       "      <td>Lufthansa</td>\n",
       "      <td>8225</td>\n",
       "      <td>Don Miguel Hidalgo y Costilla International</td>\n",
       "      <td>America - Mexico_City</td>\n",
       "      <td>Frankfurt International Airport</td>\n",
       "      <td>Europe - Berlin</td>\n",
       "      <td>1</td>\n",
       "      <td>2021-01-28 17:07:30.376000+00:00</td>\n",
       "    </tr>\n",
       "    <tr>\n",
       "      <th>4</th>\n",
       "      <td>2021-01-28</td>\n",
       "      <td>active</td>\n",
       "      <td>Bamboo Airways</td>\n",
       "      <td>1544</td>\n",
       "      <td>Tan Son Nhat International</td>\n",
       "      <td>Asia - Ho_Chi_Minh</td>\n",
       "      <td>Catbi</td>\n",
       "      <td>Asia - Ho_Chi_Minh</td>\n",
       "      <td>1</td>\n",
       "      <td>2021-01-28 17:07:30.376000+00:00</td>\n",
       "    </tr>\n",
       "  </tbody>\n",
       "</table>\n",
       "</div>"
      ],
      "text/plain": [
       "  flight_date flight_status     airline_name flight_number  \\\n",
       "0  2021-01-29        active           Qantas          7356   \n",
       "1  2021-01-29        active  Polar Air Cargo           211   \n",
       "2  2021-01-29        active           Qantas          7353   \n",
       "3  2021-01-28        active        Lufthansa          8225   \n",
       "4  2021-01-28        active   Bamboo Airways          1544   \n",
       "\n",
       "                                   departure_airport     departure_timezone  \\\n",
       "0                                        Tullamarine  Australia - Melbourne   \n",
       "1  Chu-Bu Centrair International (Central Japan I...           Asia - Tokyo   \n",
       "2                                        Tullamarine  Australia - Melbourne   \n",
       "3        Don Miguel Hidalgo y Costilla International  America - Mexico_City   \n",
       "4                         Tan Son Nhat International     Asia - Ho_Chi_Minh   \n",
       "\n",
       "                   arrival_airport      arrival_timezone arrival_terminal  \\\n",
       "0                       Launceston    Australia - Hobart                1   \n",
       "1    Shanghai Pudong International       Asia - Shanghai                1   \n",
       "2           Brisbane International  Australia - Brisbane                D   \n",
       "3  Frankfurt International Airport       Europe - Berlin                1   \n",
       "4                            Catbi    Asia - Ho_Chi_Minh                1   \n",
       "\n",
       "                  insert_timestamp  \n",
       "0 2021-01-28 17:07:30.376000+00:00  \n",
       "1 2021-01-28 17:07:08.636000+00:00  \n",
       "2 2021-01-28 17:07:30.376000+00:00  \n",
       "3 2021-01-28 17:07:30.376000+00:00  \n",
       "4 2021-01-28 17:07:30.376000+00:00  "
      ]
     },
     "execution_count": 13,
     "metadata": {},
     "output_type": "execute_result"
    }
   ],
   "source": [
    "df.head()"
   ]
  },
  {
   "cell_type": "markdown",
   "id": "civilian-impossible",
   "metadata": {
    "ExecuteTime": {
     "end_time": "2021-01-28T06:52:26.676292Z",
     "start_time": "2021-01-28T06:52:26.673000Z"
    }
   },
   "source": [
    "# Data Analysys"
   ]
  },
  {
   "cell_type": "code",
   "execution_count": 14,
   "id": "golden-dominican",
   "metadata": {
    "ExecuteTime": {
     "end_time": "2021-01-28T17:05:02.802782Z",
     "start_time": "2021-01-28T17:05:02.796784Z"
    }
   },
   "outputs": [
    {
     "data": {
      "text/plain": [
       "active    200\n",
       "Name: flight_status, dtype: int64"
      ]
     },
     "execution_count": 14,
     "metadata": {},
     "output_type": "execute_result"
    }
   ],
   "source": [
    "df.flight_status.value_counts()"
   ]
  },
  {
   "cell_type": "code",
   "execution_count": null,
   "id": "invisible-credits",
   "metadata": {},
   "outputs": [],
   "source": []
  }
 ],
 "metadata": {
  "hide_input": false,
  "kernelspec": {
   "display_name": "Python 3",
   "language": "python",
   "name": "python3"
  },
  "language_info": {
   "codemirror_mode": {
    "name": "ipython",
    "version": 3
   },
   "file_extension": ".py",
   "mimetype": "text/x-python",
   "name": "python",
   "nbconvert_exporter": "python",
   "pygments_lexer": "ipython3",
   "version": "3.8.6"
  },
  "toc": {
   "base_numbering": 1,
   "nav_menu": {},
   "number_sections": true,
   "sideBar": true,
   "skip_h1_title": false,
   "title_cell": "Table of Contents",
   "title_sidebar": "Contents",
   "toc_cell": false,
   "toc_position": {},
   "toc_section_display": true,
   "toc_window_display": true
  }
 },
 "nbformat": 4,
 "nbformat_minor": 5
}
